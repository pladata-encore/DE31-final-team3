{
 "cells": [
  {
   "cell_type": "markdown",
   "metadata": {},
   "source": [
    "# Logging Example"
   ]
  },
  {
   "cell_type": "markdown",
   "metadata": {},
   "source": [
    "### get AWS key and  make session\n"
   ]
  },
  {
   "cell_type": "code",
   "execution_count": 22,
   "metadata": {},
   "outputs": [],
   "source": [
    "import json, boto3\n",
    "\n",
    "with open(\"./.KEYS/WATCHER_ACCESS_KEY.json\", \"r\") as f:\n",
    "    key = json.load(f)\n",
    "with open(\"./.KEYS/DATA_SRC_INFO.json\", \"r\") as f:\n",
    "    bucket_info = json.load(f)\n",
    "session = boto3.Session(\n",
    "    aws_access_key_id=key['aws_access_key_id'],\n",
    "    aws_secret_access_key=key['aws_secret_key'],\n",
    "    region_name=key['region']\n",
    ")\n",
    "# \n",
    "client = session.client('logs')"
   ]
  },
  {
   "cell_type": "markdown",
   "metadata": {},
   "source": [
    "### put log event with boto3 client"
   ]
  },
  {
   "cell_type": "code",
   "execution_count": 39,
   "metadata": {},
   "outputs": [],
   "source": [
    "from datetime import datetime, timedelta\n",
    "import time\n",
    "query = \"fields @timestamp, @message | parse @message \\\"username: * ClinicID: * nodename: *\\\" as username, ClinicID, nodename | filter ClinicID = 7667 and username='simran+test@example.com'\"\n",
    "\n",
    "# make sure to exist \n",
    "# log group /aws/{cartegory}/{site_name}\n",
    "log_group = '/aws/lambda/crawler-jobkorea'\n",
    "log_stream = 'test'\n",
    "\n",
    "# if log_group or log_stream doesn't exist, create them\n",
    "try:\n",
    "    client.create_log_group(logGroupName=log_group)\n",
    "except client.exceptions.ResourceAlreadyExistsException:\n",
    "    pass\n",
    "\n",
    "try:\n",
    "    client.create_log_stream(logGroupName=log_group, logStreamName=log_stream)\n",
    "except client.exceptions.ResourceAlreadyExistsException:\n",
    "    pass\n",
    "\n",
    "# set your message\n",
    "msg = \"Hello Test\"\n",
    "\n",
    "# push log event \n",
    "response = client.put_log_events(\n",
    "    logGroupName=log_group,\n",
    "    logStreamName=log_stream,\n",
    "    logEvents=[\n",
    "        {\n",
    "            'timestamp': int(round(time.time() * 1000)),\n",
    "            'message': msg\n",
    "        },\n",
    "    ],\n",
    ")\n",
    "    "
   ]
  },
  {
   "cell_type": "markdown",
   "metadata": {},
   "source": [
    "You must check response about requset. \n",
    "- if it has 'rejectedLogEvents', log event doesn't be allowed\n",
    "- make sure that your log event has right timestamp: recomanded method is `int(round(time.time() * 1000))`"
   ]
  },
  {
   "cell_type": "code",
   "execution_count": 40,
   "metadata": {},
   "outputs": [
    {
     "data": {
      "text/plain": [
       "{'nextSequenceToken': '49655348470361518325449427548644439034907206660153933842',\n",
       " 'ResponseMetadata': {'RequestId': 'eca1f845-9e57-4fa6-885b-d1ddd00e963d',\n",
       "  'HTTPStatusCode': 200,\n",
       "  'HTTPHeaders': {'x-amzn-requestid': 'eca1f845-9e57-4fa6-885b-d1ddd00e963d',\n",
       "   'content-type': 'application/x-amz-json-1.1',\n",
       "   'content-length': '80',\n",
       "   'date': 'Fri, 30 Aug 2024 06:05:28 GMT'},\n",
       "  'RetryAttempts': 0}}"
      ]
     },
     "execution_count": 40,
     "metadata": {},
     "output_type": "execute_result"
    }
   ],
   "source": [
    "response "
   ]
  },
  {
   "cell_type": "code",
   "execution_count": null,
   "metadata": {},
   "outputs": [],
   "source": []
  },
  {
   "cell_type": "code",
   "execution_count": 1,
   "metadata": {},
   "outputs": [],
   "source": [
    "import logging\n",
    "from cloudwatch_handler import cloudwatch_handler\n",
    "\n",
    "# CloudWatchHandler 추가\n",
    "cloudwatch_handler = cloudwatch_handler()\n",
    "# 로깅 설정\n",
    "# logging.basicConfig(level=logging.INFO)\n",
    "\n",
    "logger = logging.getLogger(__name__)\n",
    "logger.setLevel(logging.DEBUG)\n",
    "cloudwatch_handler.set_init('/aws/lambda/crawler-jobkorea','test')\n",
    "cloudwatch_handler.setLevel(logging.INFO)\n",
    "formatter = logging.Formatter(\"[%(levelname)s] %(message)s\", datefmt=\"%Y-%m-%d %H:%M:%S\")\n",
    "cloudwatch_handler.setFormatter(formatter)\n",
    "logger.addHandler(cloudwatch_handler)\n",
    "# 예제 로그\n",
    "logger.info(\"This is an info message from usernamehey10\")\n",
    "# logger.error(\"This is an error message from usernamehey2\")"
   ]
  },
  {
   "cell_type": "code",
   "execution_count": 2,
   "metadata": {},
   "outputs": [],
   "source": [
    "logger.info(\"This is an info message from usernamehey11\")"
   ]
  }
 ],
 "metadata": {
  "kernelspec": {
   "display_name": "team3",
   "language": "python",
   "name": "python3"
  },
  "language_info": {
   "codemirror_mode": {
    "name": "ipython",
    "version": 3
   },
   "file_extension": ".py",
   "mimetype": "text/x-python",
   "name": "python",
   "nbconvert_exporter": "python",
   "pygments_lexer": "ipython3",
   "version": "3.12.4"
  }
 },
 "nbformat": 4,
 "nbformat_minor": 2
}
