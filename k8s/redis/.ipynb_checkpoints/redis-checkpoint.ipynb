{
 "cells": [
  {
   "cell_type": "code",
   "execution_count": 21,
   "metadata": {},
   "outputs": [],
   "source": [
    "import boto3\n",
    "import redis\n",
    "from botocore.exceptions import NoCredentialsError, PartialCredentialsError\n",
    "import json"
   ]
  },
  {
   "cell_type": "code",
   "execution_count": 12,
   "metadata": {},
   "outputs": [],
   "source": [
    "# DynamoDB 및 Redis 클라이언트 초기화\n",
    "dynamodb = boto3.resource('dynamodb', region_name='ap-northeast-2')\n",
    "table = dynamodb.Table('merged-data-table')\n",
    "\n",
    "r = redis.StrictRedis(host='221.151.189.183', port=6379, db=0)"
   ]
  },
  {
   "cell_type": "code",
   "execution_count": 22,
   "metadata": {},
   "outputs": [],
   "source": [
    "def access_keys(path):\n",
    "    with open(f'{path}/', 'r') as f:\n",
    "        key = json.load(f)\n",
    "    return key"
   ]
  },
  {
   "cell_type": "code",
   "execution_count": 9,
   "metadata": {},
   "outputs": [],
   "source": [
    "# DynamoDB에서 id 값을 가져오는 함수\n",
    "def get_ids_from_dynamodb(key):\n",
    "    AWS_ACCESS_KEY = key['aws_access_key_id']\n",
    "    AWS_SECRET_KEY = key['aws_secret_key']\n",
    "    REGION = key['region']\n",
    "    \n",
    "    response = table.scan()  # Scan을 통해 DynamoDB 테이블에서 모든 항목을 가져옴\n",
    "    items = response.get('Items', [])\n",
    "    return [item['id'] for item in items if 'id' in item]  # 'id' 필드만 추출\n",
    "\n",
    "# Redis에 id 값을 저장하는 함수\n",
    "def save_to_redis(ids):\n",
    "    for id_value in ids:\n",
    "        if not r.hexists('compare_id', id_value):  # Redis hash에 해당 id가 없으면\n",
    "            r.hset('compare_id', id_value, 1)  # 해당 id를 해시에 저장\n",
    "            print(f\"새로운 id {id_value}가 Redis에 추가되었습니다.\")\n",
    "        else:\n",
    "            print(f\"id {id_value}는 이미 Redis에 존재합니다.\")"
   ]
  },
  {
   "cell_type": "code",
   "execution_count": 25,
   "metadata": {},
   "outputs": [],
   "source": [
    "def check_dynamodb_connection(key):\n",
    "    AWS_ACCESS_KEY = key['aws_access_key_id']\n",
    "    AWS_SECRET_KEY = key['aws_secret_key']\n",
    "    REGION = key['region']\n",
    "    \n",
    "    try:\n",
    "        dynamodb = boto3.client('dynamodb',\n",
    "            region_name=REGION,\n",
    "            aws_access_key_id=AWS_ACCESS_KEY,\n",
    "            aws_secret_access_key=AWS_SECRET_KEY)\n",
    "        \n",
    "        \n",
    "        # DynamoDB에서 테이블 목록을 가져옴\n",
    "        response = dynamodb.list_tables()\n",
    "        table_names = response.get('TableNames', [])\n",
    "        \n",
    "        if table_names:\n",
    "            print(f\"DynamoDB에 성공적으로 연결되었습니다. 테이블 목록: {table_names}\")\n",
    "        else:\n",
    "            print(\"DynamoDB에 연결되었으나 테이블이 없습니다.\")\n",
    "    except NoCredentialsError:\n",
    "        print(\"AWS 자격 증명이 제공되지 않았습니다. 자격 증명을 확인하세요.\")\n",
    "    except PartialCredentialsError:\n",
    "        print(\"AWS 자격 증명이 불완전합니다. 자격 증명을 확인하세요.\")\n",
    "    except Exception as e:\n",
    "        print(f\"DynamoDB 연결 중 오류가 발생했습니다: {str(e)}\")"
   ]
  },
  {
   "cell_type": "code",
   "execution_count": 27,
   "metadata": {},
   "outputs": [],
   "source": [
    "def main():\n",
    "    path = '/home/team3/repository/keys/'\n",
    "    key = access_keys(path)\n",
    "    #ids = get_ids_from_dynamodb()\n",
    "    check_dynamodb_connection(key)\n",
    "    #save_to_redis(ids)"
   ]
  },
  {
   "cell_type": "code",
   "execution_count": null,
   "metadata": {},
   "outputs": [],
   "source": [
    "if __name__ == \"__main__\":\n",
    "    main()"
   ]
  },
  {
   "cell_type": "code",
   "execution_count": null,
   "metadata": {},
   "outputs": [],
   "source": []
  }
 ],
 "metadata": {
  "kernelspec": {
   "display_name": "Python 3 (ipykernel)",
   "language": "python",
   "name": "python3"
  },
  "language_info": {
   "codemirror_mode": {
    "name": "ipython",
    "version": 3
   },
   "file_extension": ".py",
   "mimetype": "text/x-python",
   "name": "python",
   "nbconvert_exporter": "python",
   "pygments_lexer": "ipython3",
   "version": "3.10.12"
  }
 },
 "nbformat": 4,
 "nbformat_minor": 2
}
